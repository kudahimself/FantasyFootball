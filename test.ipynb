{
 "cells": [
  {
   "cell_type": "code",
   "execution_count": null,
   "id": "967d2d70",
   "metadata": {},
   "outputs": [],
   "source": [
    "import requests\n",
    "from bs4 import BeautifulSoup\n",
    "import pandas as pd"
   ]
  },
  {
   "cell_type": "code",
   "execution_count": null,
   "id": "78af503d",
   "metadata": {},
   "outputs": [],
   "source": [
    "id = '79300479'\n",
    "url = f'https://fbref.com/en/players/{id}/matchlogs/2024-2025/Martin-Odegaard-Match-Logs'"
   ]
  },
  {
   "cell_type": "code",
   "execution_count": null,
   "id": "67a48ae1",
   "metadata": {},
   "outputs": [],
   "source": [
    "html = requests.get(url)\n",
    "\n",
    "soup = BeautifulSoup(html.text, 'html.parser')"
   ]
  },
  {
   "cell_type": "code",
   "execution_count": null,
   "id": "66075fb8",
   "metadata": {},
   "outputs": [],
   "source": [
    "# Locate the table\n",
    "table = soup.find(\"table\", id=\"matchlogs_all\")\n",
    "\n",
    "# Extract rows\n",
    "rows = table.find_all(\"tr\")\n",
    "\n",
    "# Extract headers\n",
    "headers = [header.text for header in rows[0].find_all(\"th\")]\n",
    "\n",
    "# Extract data\n",
    "data = []\n",
    "for row in rows[1:]:\n",
    "    cells = row.find_all(\"td\")\n",
    "    data.append([cell.text for cell in cells])\n",
    "\n",
    "# Display results\n",
    "print(\"Headers:\", headers)\n",
    "print(\"Data:\", data)\n",
    "\n"
   ]
  },
  {
   "cell_type": "code",
   "execution_count": 3,
   "id": "5af38cfe",
   "metadata": {},
   "outputs": [
    {
     "name": "stdout",
     "output_type": "stream",
     "text": [
      "36\n"
     ]
    }
   ],
   "source": [
    "print(len(str('e4b73855-cec2-3638-b498-06d55ee89c2a')))"
   ]
  },
  {
   "cell_type": "code",
   "execution_count": 2,
   "id": "64191c2b",
   "metadata": {},
   "outputs": [
    {
     "name": "stdout",
     "output_type": "stream",
     "text": [
      "3\n"
     ]
    }
   ],
   "source": [
    "print(len([1,2,3]))"
   ]
  },
  {
   "cell_type": "code",
   "execution_count": 1,
   "id": "9a4a47bc",
   "metadata": {},
   "outputs": [
    {
     "name": "stdout",
     "output_type": "stream",
     "text": [
      "bc\n"
     ]
    }
   ],
   "source": [
    "print('bc')"
   ]
  }
 ],
 "metadata": {
  "kernelspec": {
   "display_name": "venv",
   "language": "python",
   "name": "python3"
  },
  "language_info": {
   "codemirror_mode": {
    "name": "ipython",
    "version": 3
   },
   "file_extension": ".py",
   "mimetype": "text/x-python",
   "name": "python",
   "nbconvert_exporter": "python",
   "pygments_lexer": "ipython3",
   "version": "3.11.13"
  }
 },
 "nbformat": 4,
 "nbformat_minor": 5
}
